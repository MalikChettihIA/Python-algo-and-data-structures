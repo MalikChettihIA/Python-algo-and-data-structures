{
 "cells": [
  {
   "cell_type": "code",
   "execution_count": 2,
   "metadata": {},
   "outputs": [
    {
     "name": "stdout",
     "output_type": "stream",
     "text": [
      "lenght =  6\n",
      "heapsize =  1\n",
      "values =  [0, 3, 3, 5, 8, 9]\n"
     ]
    }
   ],
   "source": [
    "import heap_sort\n",
    "\n",
    "A = [5,8,3,9,0,3]\n",
    "H = heap_sort.Heap(A)\n",
    "H.heap_sort()\n",
    "H.show() "
   ]
  }
 ],
 "metadata": {
  "kernelspec": {
   "display_name": "Pluralsight_Getting_Started_with_Tensorflow_2.0_Env",
   "language": "python",
   "name": "python3"
  },
  "language_info": {
   "codemirror_mode": {
    "name": "ipython",
    "version": 3
   },
   "file_extension": ".py",
   "mimetype": "text/x-python",
   "name": "python",
   "nbconvert_exporter": "python",
   "pygments_lexer": "ipython3",
   "version": "3.7.16"
  }
 },
 "nbformat": 4,
 "nbformat_minor": 2
}
