{
 "cells": [
  {
   "cell_type": "code",
   "execution_count": 2,
   "metadata": {},
   "outputs": [
    {
     "name": "stdout",
     "output_type": "stream",
     "text": [
      "Before  [60, 23, 93, 74, 38, 25, 92, 52, 96, 91]\n",
      "Temps Quick sort  0.0  s\n",
      "After  [23, 25, 38, 52, 60, 74, 91, 92, 93, 96]\n"
     ]
    }
   ],
   "source": [
    "import quick_sort\n",
    "import time\n",
    "import random\n",
    "\n",
    "random.seed(2024)\n",
    "n = int(10)\n",
    "A = [random.randrange(0,100) for i in range(n)]\n",
    "t0 = time.time()\n",
    "print(\"Before \", A)\n",
    "quick_sort.quick_sort(A, 0, len(A)-1)\n",
    "t1 = time.time()\n",
    "print(\"Temps Quick sort \", round(t1-t0, 2), \" s\")\n",
    "print(\"After \", A)"
   ]
  }
 ],
 "metadata": {
  "kernelspec": {
   "display_name": "Pluralsight_Getting_Started_with_Tensorflow_2.0_Env",
   "language": "python",
   "name": "python3"
  },
  "language_info": {
   "codemirror_mode": {
    "name": "ipython",
    "version": 3
   },
   "file_extension": ".py",
   "mimetype": "text/x-python",
   "name": "python",
   "nbconvert_exporter": "python",
   "pygments_lexer": "ipython3",
   "version": "3.7.16"
  }
 },
 "nbformat": 4,
 "nbformat_minor": 2
}
