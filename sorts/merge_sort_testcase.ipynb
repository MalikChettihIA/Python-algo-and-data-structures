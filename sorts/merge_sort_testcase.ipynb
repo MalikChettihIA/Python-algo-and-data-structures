{
 "cells": [
  {
   "cell_type": "code",
   "execution_count": 2,
   "metadata": {},
   "outputs": [
    {
     "name": "stdout",
     "output_type": "stream",
     "text": [
      "Before  [60, 23, 93, 74, 38, 25, 92, 52, 96, 91]\n",
      "Temps merge sort  0.0  s\n",
      "After  [23, 23, 25, 38, 38, 38, 52, 52, 91, 91]\n"
     ]
    }
   ],
   "source": [
    "import merge_sort\n",
    "import random\n",
    "import time \n",
    "\n",
    "\n",
    "random.seed(2024)\n",
    "n = int(10)\n",
    "A = [random.randrange(0,100) for i in range(n)]\n",
    "t0 = time.time()\n",
    "print(\"Before \", A)\n",
    "merge_sort.merge_sort(A, 0, len(A)-1)\n",
    "t1 = time.time()\n",
    "print(\"Temps merge sort \", round(t1-t0, 2), \" s\")\n",
    "print(\"After \", A)"
   ]
  }
 ],
 "metadata": {
  "kernelspec": {
   "display_name": "Pluralsight_Getting_Started_with_Tensorflow_2.0_Env",
   "language": "python",
   "name": "python3"
  },
  "language_info": {
   "codemirror_mode": {
    "name": "ipython",
    "version": 3
   },
   "file_extension": ".py",
   "mimetype": "text/x-python",
   "name": "python",
   "nbconvert_exporter": "python",
   "pygments_lexer": "ipython3",
   "version": "3.7.16"
  }
 },
 "nbformat": 4,
 "nbformat_minor": 2
}
