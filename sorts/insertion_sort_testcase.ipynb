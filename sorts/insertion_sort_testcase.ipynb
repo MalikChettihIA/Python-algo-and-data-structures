{
 "cells": [
  {
   "cell_type": "markdown",
   "metadata": {},
   "source": [
    "Insertion Sort - Expected case\n",
    "Test insertion sort sur 1e4 éléments du tableau A avec des valeurs aléatoire entre 0 et 10:\n",
    "Temps insertion sort  2.06  s"
   ]
  },
  {
   "cell_type": "code",
   "execution_count": 2,
   "metadata": {},
   "outputs": [
    {
     "name": "stdout",
     "output_type": "stream",
     "text": [
      "Temps insertion sort  1.87  s\n"
     ]
    }
   ],
   "source": [
    "import insertion_sort as insertion\n",
    "import random\n",
    "import time \n",
    "\n",
    "n = int(1e4)\n",
    "A = [random.randrange(0,10) for i in range(n)]\n",
    "t0 = time.time()\n",
    "insertion.insert_sort(A,n)\n",
    "t1 = time.time()\n",
    "print(\"Temps insertion sort \", round(t1-t0, 2), \" s\")\n",
    "\n"
   ]
  },
  {
   "cell_type": "markdown",
   "metadata": {},
   "source": [
    "Insertion Sort - Best case Θ(n)\n",
    "Test insertion sort sur 1e4 éléments du tableau A en ordre croissant (ordre de tri de l'implémentation du insertion_sort):\n",
    "Temps insertion sort  0.0  s"
   ]
  },
  {
   "cell_type": "code",
   "execution_count": 3,
   "metadata": {},
   "outputs": [
    {
     "name": "stdout",
     "output_type": "stream",
     "text": [
      "Temps insertion sort  0.0  s\n"
     ]
    }
   ],
   "source": [
    "import insertion_sort as insertion\n",
    "import random\n",
    "import time \n",
    "\n",
    "n = int(1e4)\n",
    "A = list(range(n))\n",
    "t0 = time.time()\n",
    "insertion.insert_sort(A,n)\n",
    "t1 = time.time()\n",
    "print(\"Temps insertion sort \", round(t1-t0, 2), \" s\")"
   ]
  },
  {
   "cell_type": "markdown",
   "metadata": {},
   "source": [
    "Insertion Sort - Best case Θ(n*2)\n",
    "Test insertion sort sur 1e4 éléments du tableau A en ordre décroissant (ordre de tri inverse de l'implémentation du insertion_sort):\n",
    "Temps insertion sort  4.26  s"
   ]
  },
  {
   "cell_type": "code",
   "execution_count": 4,
   "metadata": {},
   "outputs": [
    {
     "name": "stdout",
     "output_type": "stream",
     "text": [
      "Temps insertion sort  4.4  s\n"
     ]
    }
   ],
   "source": [
    "import insertion_sort as insertion\n",
    "import random\n",
    "import time \n",
    "\n",
    "n = int(1e4)\n",
    "A = list(range(n, -1, -1))\n",
    "t0 = time.time()\n",
    "insertion.insert_sort(A,n)\n",
    "t1 = time.time()\n",
    "print(\"Temps insertion sort \", round(t1-t0, 2), \" s\")"
   ]
  }
 ],
 "metadata": {
  "kernelspec": {
   "display_name": "Pluralsight_Getting_Started_with_Tensorflow_2.0_Env",
   "language": "python",
   "name": "python3"
  },
  "language_info": {
   "codemirror_mode": {
    "name": "ipython",
    "version": 3
   },
   "file_extension": ".py",
   "mimetype": "text/x-python",
   "name": "python",
   "nbconvert_exporter": "python",
   "pygments_lexer": "ipython3",
   "version": "3.7.16"
  }
 },
 "nbformat": 4,
 "nbformat_minor": 2
}
